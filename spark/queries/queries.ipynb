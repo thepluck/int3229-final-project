{
 "cells": [
  {
   "cell_type": "code",
   "execution_count": 1,
   "metadata": {},
   "outputs": [
    {
     "name": "stdout",
     "output_type": "stream",
     "text": [
      "3.5.3\n"
     ]
    }
   ],
   "source": [
    "import pyspark\n",
    "print(pyspark.__version__)\n"
   ]
  },
  {
   "cell_type": "code",
   "execution_count": 3,
   "metadata": {},
   "outputs": [
    {
     "name": "stdout",
     "output_type": "stream",
     "text": [
      "+-----------------+--------------------+--------------------+---------+------+------+\n",
      "|     DirectorName|              Genres|           MovieName|   Budget|  Year|Rating|\n",
      "+-----------------+--------------------+--------------------+---------+------+------+\n",
      "|    James Cameron|Action|Adventure|...|              Avatar|237000000|2009.0|   7.9|\n",
      "|   Gore Verbinski|Action|Adventure|...|Pirates of the Ca...|300000000|2007.0|   7.1|\n",
      "|       Sam Mendes|Action|Adventure|...|             Spectre|245000000|2015.0|   6.8|\n",
      "|Christopher Nolan|     Action|Thriller|The Dark Knight R...|250000000|2012.0|   8.5|\n",
      "|      Doug Walker|         Documentary|Star Wars: Episod...|     NULL|  NULL|   7.1|\n",
      "+-----------------+--------------------+--------------------+---------+------+------+\n",
      "only showing top 5 rows\n",
      "\n",
      "+------+-------+------+----------+\n",
      "|userId|movieId|rating| timestamp|\n",
      "+------+-------+------+----------+\n",
      "|     1|     31|   2.5|1260759144|\n",
      "|     1|   1029|   3.0|1260759179|\n",
      "|     1|   1061|   3.0|1260759182|\n",
      "|     1|   1129|   2.0|1260759185|\n",
      "|     1|   1172|   4.0|1260759205|\n",
      "+------+-------+------+----------+\n",
      "only showing top 5 rows\n",
      "\n"
     ]
    }
   ],
   "source": [
    "from pyspark.sql import SparkSession\n",
    "from pyspark.sql.types import StructType, StructField, StringType, FloatType, IntegerType, LongType\n",
    "\n",
    "spark = SparkSession.builder.appName(\"MovieDataAnalysis\").getOrCreate()\n",
    "\n",
    "\n",
    "movies_schema = StructType([\n",
    "    StructField(\"DirectorName\", StringType(), True),\n",
    "    StructField(\"Genres\", StringType(), True),\n",
    "    StructField(\"MovieName\", StringType(), True),\n",
    "    StructField(\"Budget\", LongType(), True),\n",
    "    StructField(\"Year\", FloatType(), True),\n",
    "    StructField(\"Rating\", FloatType(), True)\n",
    "])\n",
    "\n",
    "user_ratings_schema = StructType([\n",
    "    StructField(\"userId\", IntegerType(), True),\n",
    "    StructField(\"movieId\", IntegerType(), True),\n",
    "    StructField(\"rating\", FloatType(), True),\n",
    "    StructField(\"timestamp\", LongType(), True)\n",
    "])\n",
    "\n",
    "\n",
    "movies_df = spark.read.csv('../../data/movies.csv', header=True, schema=movies_schema)\n",
    "user_ratings_df = spark.read.csv('../../data/ratings.csv', header=True, schema=user_ratings_schema)\n",
    "\n",
    "movies_df.show(5)\n",
    "user_ratings_df.show(5)\n"
   ]
  },
  {
   "cell_type": "markdown",
   "metadata": {},
   "source": [
    "# Truy vấn 1: Số lượng phim của một đạo diễn"
   ]
  },
  {
   "cell_type": "code",
   "execution_count": 4,
   "metadata": {},
   "outputs": [
    {
     "name": "stdout",
     "output_type": "stream",
     "text": [
      "+-----------------+-----+\n",
      "|     DirectorName|count|\n",
      "+-----------------+-----+\n",
      "| Steven Spielberg|   26|\n",
      "|      Woody Allen|   22|\n",
      "|   Clint Eastwood|   20|\n",
      "|  Martin Scorsese|   18|\n",
      "|     Ridley Scott|   17|\n",
      "|        Spike Lee|   16|\n",
      "|       Tim Burton|   16|\n",
      "|Steven Soderbergh|   16|\n",
      "|     Renny Harlin|   15|\n",
      "|     Oliver Stone|   14|\n",
      "+-----------------+-----+\n",
      "only showing top 10 rows\n",
      "\n"
     ]
    }
   ],
   "source": [
    "director_movie_count = movies_df.groupBy(\"DirectorName\").count()\n",
    "\n",
    "# Top 10\n",
    "director_movie_count.orderBy(\"count\", ascending=False).show(10)"
   ]
  },
  {
   "cell_type": "markdown",
   "metadata": {},
   "source": [
    "# Truy vấn 2: Số lượng phim hành động trong 1 năm\n"
   ]
  },
  {
   "cell_type": "code",
   "execution_count": 5,
   "metadata": {},
   "outputs": [
    {
     "name": "stdout",
     "output_type": "stream",
     "text": [
      "+------+-----+\n",
      "|  year|count|\n",
      "+------+-----+\n",
      "|2014.0|   71|\n",
      "|2011.0|   54|\n",
      "|2010.0|   53|\n",
      "|2015.0|   53|\n",
      "|2012.0|   50|\n",
      "|2013.0|   47|\n",
      "|2008.0|   45|\n",
      "|2005.0|   45|\n",
      "|2009.0|   44|\n",
      "|2001.0|   44|\n",
      "+------+-----+\n",
      "only showing top 10 rows\n",
      "\n"
     ]
    }
   ],
   "source": [
    "from pyspark.sql.functions import col\n",
    "action_movies_per_year = movies_df.filter(movies_df.Genres.contains(\"Action\")) \\\n",
    "                                   .groupBy(\"year\") \\\n",
    "                                   .count()\n",
    "\n",
    "# Top 10\n",
    "action_movies_per_year.orderBy(\"count\", ascending=False).show(10)"
   ]
  },
  {
   "cell_type": "markdown",
   "metadata": {},
   "source": [
    "# Truy vấn 3: Trung bình rating của các phim của một đạo diễn\n"
   ]
  },
  {
   "cell_type": "code",
   "execution_count": 6,
   "metadata": {},
   "outputs": [
    {
     "name": "stdout",
     "output_type": "stream",
     "text": [
      "+-----------------+-----------------+\n",
      "|     DirectorName|       avg_rating|\n",
      "+-----------------+-----------------+\n",
      "| Sadyk Sher-Niyaz|8.699999809265137|\n",
      "|        Cary Bell|8.699999809265137|\n",
      "|     Mike Mayhall|8.600000381469727|\n",
      "|  Charles Chaplin|8.600000381469727|\n",
      "|       Raja Menon|              8.5|\n",
      "|  Damien Chazelle|              8.5|\n",
      "|     Majid Majidi|              8.5|\n",
      "|       Ron Fricke|              8.5|\n",
      "|     Sergio Leone|8.474999904632568|\n",
      "|Christopher Nolan|8.425000071525574|\n",
      "+-----------------+-----------------+\n",
      "only showing top 10 rows\n",
      "\n"
     ]
    }
   ],
   "source": [
    "director_avg_rating = movies_df.groupBy(\"DirectorName\") \\\n",
    "                                .avg(\"Rating\") \\\n",
    "                                .withColumnRenamed(\"avg(Rating)\", \"avg_rating\")\n",
    "\n",
    "# Top 10\n",
    "director_avg_rating.orderBy(\"avg_rating\", ascending=False).show(10)\n"
   ]
  },
  {
   "cell_type": "code",
   "execution_count": null,
   "metadata": {},
   "outputs": [],
   "source": []
  }
 ],
 "metadata": {
  "kernelspec": {
   "display_name": "Python 3",
   "language": "python",
   "name": "python3"
  },
  "language_info": {
   "codemirror_mode": {
    "name": "ipython",
    "version": 3
   },
   "file_extension": ".py",
   "mimetype": "text/x-python",
   "name": "python",
   "nbconvert_exporter": "python",
   "pygments_lexer": "ipython3",
   "version": "3.12.6"
  }
 },
 "nbformat": 4,
 "nbformat_minor": 2
}
